{
 "cells": [
  {
   "cell_type": "code",
   "execution_count": 2,
   "metadata": {},
   "outputs": [
    {
     "name": "stderr",
     "output_type": "stream",
     "text": [
      "Using TensorFlow backend.\n"
     ]
    }
   ],
   "source": [
    "#Importing the libraries\n",
    "from keras.models import Sequential\n",
    "from keras.layers import Dense\n",
    "from keras.layers import Convolution2D\n",
    "from keras.layers import MaxPooling2D\n",
    "from keras.layers import Flatten"
   ]
  },
  {
   "cell_type": "code",
   "execution_count": 3,
   "metadata": {},
   "outputs": [],
   "source": [
    "#Initialize the model\n",
    "model = Sequential()"
   ]
  },
  {
   "cell_type": "code",
   "execution_count": 4,
   "metadata": {},
   "outputs": [],
   "source": [
    "model.add(Convolution2D(64, (7,7), input_shape = (512,512,3), activation = 'relu'))"
   ]
  },
  {
   "cell_type": "code",
   "execution_count": 5,
   "metadata": {},
   "outputs": [],
   "source": [
    "model.add(MaxPooling2D(pool_size = (5,5)))"
   ]
  },
  {
   "cell_type": "code",
   "execution_count": 6,
   "metadata": {},
   "outputs": [],
   "source": [
    "model.add(Flatten())"
   ]
  },
  {
   "cell_type": "code",
   "execution_count": 7,
   "metadata": {},
   "outputs": [
    {
     "name": "stderr",
     "output_type": "stream",
     "text": [
      "C:\\Users\\RehanAli\\.conda\\envs\\Tensorflow\\lib\\site-packages\\ipykernel_launcher.py:1: UserWarning: Update your `Dense` call to the Keras 2 API: `Dense(activation=\"relu\", units=128, kernel_initializer=\"uniform\")`\n",
      "  \"\"\"Entry point for launching an IPython kernel.\n"
     ]
    }
   ],
   "source": [
    "model.add(Dense(output_dim = 128 ,init = 'uniform',activation = 'relu'))"
   ]
  },
  {
   "cell_type": "code",
   "execution_count": 8,
   "metadata": {},
   "outputs": [
    {
     "name": "stderr",
     "output_type": "stream",
     "text": [
      "C:\\Users\\RehanAli\\.conda\\envs\\Tensorflow\\lib\\site-packages\\ipykernel_launcher.py:1: UserWarning: Update your `Dense` call to the Keras 2 API: `Dense(activation=\"sigmoid\", units=1, kernel_initializer=\"uniform\")`\n",
      "  \"\"\"Entry point for launching an IPython kernel.\n"
     ]
    }
   ],
   "source": [
    "model.add(Dense(output_dim = 1, init ='uniform', activation = 'sigmoid'))"
   ]
  },
  {
   "cell_type": "code",
   "execution_count": 9,
   "metadata": {},
   "outputs": [],
   "source": [
    "from keras.preprocessing.image import ImageDataGenerator\n",
    "train_datagen = ImageDataGenerator(rescale = 1./255,shear_range = 0.2,zoom_range = 0.2,horizontal_flip = True)\n",
    "test_datagen =ImageDataGenerator(rescale = 1./255)\n"
   ]
  },
  {
   "cell_type": "code",
   "execution_count": 10,
   "metadata": {},
   "outputs": [
    {
     "name": "stdout",
     "output_type": "stream",
     "text": [
      "Found 4736 images belonging to 2 classes.\n",
      "Found 1113 images belonging to 2 classes.\n"
     ]
    }
   ],
   "source": [
    "x_train = train_datagen.flow_from_directory(r'dataset\\train',target_size = (512,512),batch_size = 16, class_mode = 'binary')\n",
    "x_test =  test_datagen.flow_from_directory(r'dataset\\test',target_size = (512,512),batch_size = 16, class_mode = 'binary')"
   ]
  },
  {
   "cell_type": "code",
   "execution_count": 11,
   "metadata": {},
   "outputs": [
    {
     "name": "stdout",
     "output_type": "stream",
     "text": [
      "{'NORMAL': 0, 'PNEUMONIA': 1}\n"
     ]
    }
   ],
   "source": [
    "print(x_train.class_indices)"
   ]
  },
  {
   "cell_type": "code",
   "execution_count": 12,
   "metadata": {},
   "outputs": [],
   "source": [
    "model.compile(loss = 'binary_crossentropy',optimizer = \"adam\",metrics = [\"accuracy\"])"
   ]
  },
  {
   "cell_type": "code",
   "execution_count": 13,
   "metadata": {},
   "outputs": [
    {
     "name": "stdout",
     "output_type": "stream",
     "text": [
      "Epoch 1/50\n",
      "296/296 [==============================] - 1971s 7s/step - loss: 0.4497 - accuracy: 0.8254 - val_loss: 0.3695 - val_accuracy: 0.8641\n",
      "Epoch 2/50\n",
      "296/296 [==============================] - 1611s 5s/step - loss: 0.2722 - accuracy: 0.8830 - val_loss: 0.2592 - val_accuracy: 0.8788\n",
      "Epoch 3/50\n",
      "296/296 [==============================] - 1585s 5s/step - loss: 0.2649 - accuracy: 0.8900 - val_loss: 0.3634 - val_accuracy: 0.8569\n",
      "Epoch 4/50\n",
      "296/296 [==============================] - 1616s 5s/step - loss: 0.2427 - accuracy: 0.9012 - val_loss: 0.3273 - val_accuracy: 0.8970\n",
      "Epoch 5/50\n",
      "296/296 [==============================] - 1614s 5s/step - loss: 0.2319 - accuracy: 0.9107 - val_loss: 0.1908 - val_accuracy: 0.8888\n",
      "Epoch 6/50\n",
      "296/296 [==============================] - 1590s 5s/step - loss: 0.2076 - accuracy: 0.9164 - val_loss: 0.4633 - val_accuracy: 0.8350\n",
      "Epoch 7/50\n",
      "296/296 [==============================] - 1592s 5s/step - loss: 0.2357 - accuracy: 0.9075 - val_loss: 0.3343 - val_accuracy: 0.8715\n",
      "Epoch 8/50\n",
      "296/296 [==============================] - 1593s 5s/step - loss: 0.2087 - accuracy: 0.9160 - val_loss: 0.1139 - val_accuracy: 0.8851\n",
      "Epoch 9/50\n",
      "296/296 [==============================] - 1595s 5s/step - loss: 0.1932 - accuracy: 0.9280 - val_loss: 0.3133 - val_accuracy: 0.8760\n",
      "Epoch 10/50\n",
      "296/296 [==============================] - 1592s 5s/step - loss: 0.1839 - accuracy: 0.9307 - val_loss: 0.1272 - val_accuracy: 0.8888\n",
      "Epoch 11/50\n",
      "296/296 [==============================] - 1589s 5s/step - loss: 0.1796 - accuracy: 0.9320 - val_loss: 0.2267 - val_accuracy: 0.8888\n",
      "Epoch 12/50\n",
      "296/296 [==============================] - 1634s 6s/step - loss: 0.1594 - accuracy: 0.9392 - val_loss: 0.7682 - val_accuracy: 0.8778\n",
      "Epoch 13/50\n",
      "296/296 [==============================] - 1672s 6s/step - loss: 0.1849 - accuracy: 0.9314 - val_loss: 0.2220 - val_accuracy: 0.8888\n",
      "Epoch 14/50\n",
      "296/296 [==============================] - 1623s 5s/step - loss: 0.1674 - accuracy: 0.9379 - val_loss: 0.5605 - val_accuracy: 0.8660\n",
      "Epoch 15/50\n",
      "296/296 [==============================] - 1600s 5s/step - loss: 0.1491 - accuracy: 0.9405 - val_loss: 0.6328 - val_accuracy: 0.8879\n",
      "Epoch 16/50\n",
      "296/296 [==============================] - 1598s 5s/step - loss: 0.1542 - accuracy: 0.9392 - val_loss: 0.1729 - val_accuracy: 0.8997\n",
      "Epoch 17/50\n",
      "296/296 [==============================] - 1599s 5s/step - loss: 0.1662 - accuracy: 0.9428 - val_loss: 0.3688 - val_accuracy: 0.8715\n",
      "Epoch 18/50\n",
      "296/296 [==============================] - 1614s 5s/step - loss: 0.1537 - accuracy: 0.9411 - val_loss: 0.3032 - val_accuracy: 0.9025\n",
      "Epoch 19/50\n",
      "296/296 [==============================] - 1591s 5s/step - loss: 0.1453 - accuracy: 0.9455 - val_loss: 0.3202 - val_accuracy: 0.9070\n",
      "Epoch 20/50\n",
      "296/296 [==============================] - 1590s 5s/step - loss: 0.1401 - accuracy: 0.9497 - val_loss: 0.0649 - val_accuracy: 0.8897\n",
      "Epoch 21/50\n",
      "296/296 [==============================] - 1593s 5s/step - loss: 0.1401 - accuracy: 0.9457 - val_loss: 0.8119 - val_accuracy: 0.9152\n",
      "Epoch 22/50\n",
      "296/296 [==============================] - 1595s 5s/step - loss: 0.1326 - accuracy: 0.9506 - val_loss: 0.8589 - val_accuracy: 0.9034\n",
      "Epoch 23/50\n",
      "296/296 [==============================] - 1600s 5s/step - loss: 0.1330 - accuracy: 0.9538 - val_loss: 0.1072 - val_accuracy: 0.9034\n",
      "Epoch 24/50\n",
      "296/296 [==============================] - 1602s 5s/step - loss: 0.1325 - accuracy: 0.9500 - val_loss: 0.1590 - val_accuracy: 0.9052\n",
      "Epoch 25/50\n",
      "296/296 [==============================] - 1595s 5s/step - loss: 0.1360 - accuracy: 0.9462 - val_loss: 0.2841 - val_accuracy: 0.9088\n",
      "Epoch 26/50\n",
      "296/296 [==============================] - 1597s 5s/step - loss: 0.1277 - accuracy: 0.9508 - val_loss: 0.0649 - val_accuracy: 0.9170\n",
      "Epoch 27/50\n",
      "296/296 [==============================] - 1618s 5s/step - loss: 0.1251 - accuracy: 0.9527 - val_loss: 0.0916 - val_accuracy: 0.9015\n",
      "Epoch 28/50\n",
      "296/296 [==============================] - 1609s 5s/step - loss: 0.1326 - accuracy: 0.9557 - val_loss: 0.1506 - val_accuracy: 0.9253\n",
      "Epoch 29/50\n",
      "296/296 [==============================] - 1594s 5s/step - loss: 0.1156 - accuracy: 0.9584 - val_loss: 0.7335 - val_accuracy: 0.9189\n",
      "Epoch 30/50\n",
      "296/296 [==============================] - 1592s 5s/step - loss: 0.1180 - accuracy: 0.9557 - val_loss: 0.4260 - val_accuracy: 0.9207\n",
      "Epoch 31/50\n",
      "296/296 [==============================] - 1593s 5s/step - loss: 0.1224 - accuracy: 0.9533 - val_loss: 0.4562 - val_accuracy: 0.9161\n",
      "Epoch 32/50\n",
      "296/296 [==============================] - 1598s 5s/step - loss: 0.1123 - accuracy: 0.9590 - val_loss: 0.5559 - val_accuracy: 0.9134\n",
      "Epoch 33/50\n",
      "296/296 [==============================] - 1602s 5s/step - loss: 0.1186 - accuracy: 0.9578 - val_loss: 0.1413 - val_accuracy: 0.9262\n",
      "Epoch 34/50\n",
      "296/296 [==============================] - 1605s 5s/step - loss: 0.1024 - accuracy: 0.9645 - val_loss: 0.4733 - val_accuracy: 0.9170\n",
      "Epoch 35/50\n",
      "296/296 [==============================] - 1610s 5s/step - loss: 0.1188 - accuracy: 0.9531 - val_loss: 0.0553 - val_accuracy: 0.9207\n",
      "Epoch 36/50\n",
      "296/296 [==============================] - 1599s 5s/step - loss: 0.1050 - accuracy: 0.9616 - val_loss: 0.4385 - val_accuracy: 0.9189\n",
      "Epoch 37/50\n",
      "296/296 [==============================] - 1600s 5s/step - loss: 0.1055 - accuracy: 0.9611 - val_loss: 0.1698 - val_accuracy: 0.9180\n",
      "Epoch 38/50\n",
      "296/296 [==============================] - 1592s 5s/step - loss: 0.1080 - accuracy: 0.9637 - val_loss: 0.0318 - val_accuracy: 0.9216\n",
      "Epoch 39/50\n",
      "296/296 [==============================] - 1609s 5s/step - loss: 0.1158 - accuracy: 0.9597 - val_loss: 1.2120 - val_accuracy: 0.9280\n",
      "Epoch 40/50\n",
      "296/296 [==============================] - 1594s 5s/step - loss: 0.1032 - accuracy: 0.9607 - val_loss: 0.5815 - val_accuracy: 0.9307\n",
      "Epoch 41/50\n",
      "296/296 [==============================] - 1614s 5s/step - loss: 0.1034 - accuracy: 0.9567 - val_loss: 0.1517 - val_accuracy: 0.9280\n",
      "Epoch 42/50\n",
      "296/296 [==============================] - 1608s 5s/step - loss: 0.1014 - accuracy: 0.9616 - val_loss: 0.0039 - val_accuracy: 0.9417\n",
      "Epoch 43/50\n",
      "296/296 [==============================] - 1595s 5s/step - loss: 0.1055 - accuracy: 0.9595 - val_loss: 0.8542 - val_accuracy: 0.9189\n",
      "Epoch 44/50\n",
      "296/296 [==============================] - 1595s 5s/step - loss: 0.1199 - accuracy: 0.9576 - val_loss: 0.1446 - val_accuracy: 0.8915\n",
      "Epoch 45/50\n",
      "296/296 [==============================] - 1610s 5s/step - loss: 0.1100 - accuracy: 0.9603 - val_loss: 0.2425 - val_accuracy: 0.9289\n",
      "Epoch 46/50\n",
      "296/296 [==============================] - 1595s 5s/step - loss: 0.0956 - accuracy: 0.9647 - val_loss: 0.0384 - val_accuracy: 0.9307\n",
      "Epoch 47/50\n",
      "296/296 [==============================] - 1611s 5s/step - loss: 0.0971 - accuracy: 0.9641 - val_loss: 0.2208 - val_accuracy: 0.9307\n",
      "Epoch 48/50\n",
      "296/296 [==============================] - 1611s 5s/step - loss: 0.0968 - accuracy: 0.9639 - val_loss: 0.5409 - val_accuracy: 0.8970\n",
      "Epoch 49/50\n",
      "296/296 [==============================] - 1598s 5s/step - loss: 0.0938 - accuracy: 0.9633 - val_loss: 0.2008 - val_accuracy: 0.9234\n",
      "Epoch 50/50\n",
      "296/296 [==============================] - 1617s 5s/step - loss: 0.0964 - accuracy: 0.9626 - val_loss: 1.0384 - val_accuracy: 0.9198\n"
     ]
    },
    {
     "data": {
      "text/plain": [
       "<keras.callbacks.callbacks.History at 0x2d5d6548c48>"
      ]
     },
     "execution_count": 13,
     "metadata": {},
     "output_type": "execute_result"
    }
   ],
   "source": [
    "model.fit_generator(x_train, steps_per_epoch = 296,epochs = 50, validation_data = x_test, validation_steps = 69)"
   ]
  },
  {
   "cell_type": "code",
   "execution_count": 14,
   "metadata": {},
   "outputs": [],
   "source": [
    "model.save(\"pneumonia.h5\")"
   ]
  }
 ],
 "metadata": {
  "kernelspec": {
   "display_name": "Python 3",
   "language": "python",
   "name": "python3"
  },
  "language_info": {
   "codemirror_mode": {
    "name": "ipython",
    "version": 3
   },
   "file_extension": ".py",
   "mimetype": "text/x-python",
   "name": "python",
   "nbconvert_exporter": "python",
   "pygments_lexer": "ipython3",
   "version": "3.7.7"
  }
 },
 "nbformat": 4,
 "nbformat_minor": 2
}
